{
 "cells": [
  {
   "cell_type": "code",
   "execution_count": 1,
   "metadata": {},
   "outputs": [],
   "source": [
    "import numpy as np\n",
    "import pandas as pd\n"
   ]
  },
  {
   "cell_type": "code",
   "execution_count": 2,
   "metadata": {},
   "outputs": [
    {
     "name": "stderr",
     "output_type": "stream",
     "text": [
      "/var/folders/dr/ly3stt450rn8z5fl306wjyj40000gn/T/ipykernel_3122/1720469764.py:1: DtypeWarning: Columns (4,5) have mixed types. Specify dtype option on import or set low_memory=False.\n",
      "  fast = pd.read_csv(\"data_raw/firstbatch1.csv\")\n"
     ]
    }
   ],
   "source": [
    "fast = pd.read_csv(\"data_raw/firstbatch1.csv\")\n",
    "\n",
    "b_column=fast[\"stimulus\"]\n",
    "\n",
    "\n",
    "stri=\"<h1>Rumination Response Scale</h1> <p>1/8</p><p>This scale will be 22 questions long </p> <p>Instructions: </p><p>People think and do many different things when they feel depressed. Please read each of the items </p><p>below and indicate whether you almost never, sometimes, often, or almost always think or do each one when you feel down, sad, or depressed.</p><p> Please indicate what you generally do, not what you think you should do.</p>\"\n"
   ]
  },
  {
   "cell_type": "code",
   "execution_count": 3,
   "metadata": {},
   "outputs": [
    {
     "name": "stdout",
     "output_type": "stream",
     "text": [
      "[1881, 2763, 3690, 4608, 5484, 6336, 7080, 8037, 8862, 9855, 10701, 11433, 12318, 13221, 14202, 15048, 15957, 16944, 17862, 18684, 19500, 20319, 21165, 21978, 22950, 23898, 24558, 25407, 26319, 27192, 28083, 29001, 29811, 30759, 31728, 32682, 33501, 34458, 35415, 36237, 37122, 38004, 38913, 39813, 40701, 41613, 42567, 43530, 44379, 45306, 46161, 47091, 47931, 48792, 49767, 50652, 51564, 52488, 53493, 54342, 55191, 55965, 56835, 57279, 58173, 59085, 60069, 61053, 61959]\n"
     ]
    }
   ],
   "source": [
    "df = fast[fast[\"stimulus\"]==stri]\n",
    "fast1=df.index\n",
    "fx= list(fast1)\n",
    "print(fx)\n",
    "    \n"
   ]
  },
  {
   "cell_type": "code",
   "execution_count": 4,
   "metadata": {},
   "outputs": [],
   "source": [
    "empty=[]\n",
    "for x in fx:\n",
    "    empty.append(fast.iloc[x:x+23])\n",
    "    empty.append(fast.iloc[x+80:x+102])\n",
    "    def1=pd.concat(empty)\n",
    "def1.to_csv(\"data_raw/cleaned_data1.csv\")\n",
    "\n"
   ]
  },
  {
   "cell_type": "code",
   "execution_count": 5,
   "metadata": {},
   "outputs": [],
   "source": [
    "#u=[]\n",
    "#n= 1\n",
    "#include number of subjects\n",
    "#for i in range(0,68):\n",
    " #   u.append(n)\n",
    "  #  n=n+45"
   ]
  }
 ],
 "metadata": {
  "kernelspec": {
   "display_name": "Python 3",
   "language": "python",
   "name": "python3"
  },
  "language_info": {
   "codemirror_mode": {
    "name": "ipython",
    "version": 3
   },
   "file_extension": ".py",
   "mimetype": "text/x-python",
   "name": "python",
   "nbconvert_exporter": "python",
   "pygments_lexer": "ipython3",
   "version": "3.11.1"
  },
  "orig_nbformat": 4,
  "vscode": {
   "interpreter": {
    "hash": "aee8b7b246df8f9039afb4144a1f6fd8d2ca17a180786b69acc140d282b71a49"
   }
  }
 },
 "nbformat": 4,
 "nbformat_minor": 2
}
