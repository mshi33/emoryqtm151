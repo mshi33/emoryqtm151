{
 "cells": [
  {
   "cell_type": "code",
   "execution_count": 3,
   "metadata": {},
   "outputs": [],
   "source": [
    "import numpy as np\n",
    "import pandas as pd\n"
   ]
  },
  {
   "cell_type": "code",
   "execution_count": null,
   "metadata": {},
   "outputs": [],
   "source": [
    "fast = pd.read_csv(\"data_raw/FASTdata1.csv\")\n",
    "\n",
    "b_column=fast[\"stimulus\"]\n",
    "\n",
    "\n",
    "stri=\"<h1>Rumination Response Scale</h1> <p>1/8</p><p>This scale will be 22 questions long </p> <p>Instructions: </p><p>People think and do many different things when they feel depressed. Please read each of the items </p><p>below and indicate whether you almost never, sometimes, often, or almost always think or do each one when you feel down, sad, or depressed.</p><p> Please indicate what you generally do, not what you think you should do.</p>\"\n",
    "\n",
    "\n",
    "for x in b_column:\n",
    "    if x==stri:\n",
    "        print(x)"
   ]
  },
  {
   "cell_type": "code",
   "execution_count": 26,
   "metadata": {},
   "outputs": [
    {
     "name": "stdout",
     "output_type": "stream",
     "text": [
      "[1881, 2763, 3690, 4608, 5484, 6336, 7080, 8037, 8862, 9855, 10701, 11433, 12318, 13221, 14202, 15048, 15957, 16944, 17862, 18684, 19500, 20319, 21165, 21978, 22950, 23898, 24558, 25407, 26319, 27192, 28083, 29001, 29811, 30759, 31728, 32682, 33501, 34458, 35415, 36237, 37122, 38004, 38913, 39813, 40701, 41613, 42567, 43530, 44379, 45306]\n"
     ]
    }
   ],
   "source": [
    "df = fast[fast[\"stimulus\"]==stri]\n",
    "fast1=df.index\n",
    "fx= list(fast1)\n",
    "print(fx)\n",
    "    \n"
   ]
  },
  {
   "cell_type": "code",
   "execution_count": 32,
   "metadata": {},
   "outputs": [],
   "source": [
    "empty=[]\n",
    "for x in fx:\n",
    "    empty.append(fast.iloc[x:x+23])\n",
    "    empty.append(fast.iloc[x+80:x+102])\n",
    "    def1=pd.concat(empty)\n",
    "def1.to_csv(\"data_raw/cleaned_data.csv\")\n",
    "\n"
   ]
  },
  {
   "cell_type": "code",
   "execution_count": 97,
   "metadata": {},
   "outputs": [
    {
     "name": "stdout",
     "output_type": "stream",
     "text": [
      "[1, 46, 91, 136, 181, 226, 271, 316, 361, 406, 451, 496, 541, 586, 631, 676, 721, 766, 811, 856, 901, 946, 991, 1036, 1081, 1126, 1171, 1216, 1261, 1306, 1351, 1396, 1441, 1486, 1531, 1576, 1621, 1666, 1711, 1756, 1801, 1846, 1891, 1936, 1981, 2026, 2071, 2116, 2161, 2206, 2251, 2296, 2341, 2386, 2431, 2476, 2521, 2566, 2611, 2656, 2701, 2746, 2791, 2836, 2881, 2926, 2971, 3016]\n"
     ]
    }
   ],
   "source": [
    "#u=[]\n",
    "#n= 1\n",
    "#include number of subjects\n",
    "#for i in range(0,68):\n",
    " #   u.append(n)\n",
    "  #  n=n+45"
   ]
  },
  {
   "cell_type": "code",
   "execution_count": 108,
   "metadata": {},
   "outputs": [
    {
     "name": "stdout",
     "output_type": "stream",
     "text": [
      "[23, 37, 22, 18, 28, 27, 19, 22, 46, 24, 24, 17, 33, 17, 26, 22, 18, 20, 16, 35, 29, 31, 13, 18, 27, 13, 18, 40, 35, 29, 33, 26, 33, 22, 35, 24, 20, 26, 21, 29, 33, 38, 36, 19, 37, 24, 40, 38, 20, 36]\n"
     ]
    }
   ],
   "source": [
    "vast = pd.read_csv(\"data_raw/cleaned_data.csv\")\n",
    "\n",
    "Reflection1=[]\n",
    "Brooding1=[]\n",
    "Depression1=[]\n",
    "Hobbies1=[]\n",
    "Food_Drink1=[]\n",
    "Social_Activity1=[]\n",
    "Sensory_Experiences1=[]\n",
    "b_column1=vast[\"stimulus\"]\n",
    "for y in range(1, len(b_column1),45):        \n",
    "        ref1=int(b_column1[y+6])+int(b_column1[y+10])+int(b_column1[y+11])+int(b_column1[y+19])+int(b_column1[y+20])\n",
    "        brood1 = int(b_column1[y+4])+int(b_column1[y+9])+int(b_column1[y+12])+int(b_column1[y+14])+int(b_column1[y+15])                \n",
    "        dep1 = int(b_column1[y])+int(b_column1[y+1])+int(b_column1[y+2])+int(b_column1[y+3])+int(b_column1[y+5])+int(b_column1[y+7])+int(b_column1[y+8])+int(b_column1[y+13])+int(b_column1[y+16])+int(b_column1[y+17])+int(b_column1[y+18])+int(b_column1[y+21])\n",
    "        Reflection1.append(ref1)\n",
    "        Brooding1.append(brood1)  \n",
    "        Depression1.append(dep1)\n",
    "\n",
    "\n",
    "    \n",
    "    \n",
    "    "
   ]
  }
 ],
 "metadata": {
  "kernelspec": {
   "display_name": "Python 3",
   "language": "python",
   "name": "python3"
  },
  "language_info": {
   "codemirror_mode": {
    "name": "ipython",
    "version": 3
   },
   "file_extension": ".py",
   "mimetype": "text/x-python",
   "name": "python",
   "nbconvert_exporter": "python",
   "pygments_lexer": "ipython3",
   "version": "3.11.1"
  },
  "orig_nbformat": 4,
  "vscode": {
   "interpreter": {
    "hash": "aee8b7b246df8f9039afb4144a1f6fd8d2ca17a180786b69acc140d282b71a49"
   }
  }
 },
 "nbformat": 4,
 "nbformat_minor": 2
}
