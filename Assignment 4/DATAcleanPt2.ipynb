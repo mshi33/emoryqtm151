{
 "cells": [
  {
   "cell_type": "code",
   "execution_count": 1,
   "metadata": {},
   "outputs": [],
   "source": [
    "import numpy as np\n",
    "import pandas as pd"
   ]
  },
  {
   "cell_type": "code",
   "execution_count": 2,
   "metadata": {},
   "outputs": [],
   "source": [
    "vast = pd.read_csv(\"/Users/michaelshi/Desktop/GitHub/qtm151spring2023/Assignment 4/data_raw/cleaned_data1.csv\")\n",
    "dataframe1=pd.DataFrame(vast)"
   ]
  },
  {
   "cell_type": "code",
   "execution_count": 3,
   "metadata": {},
   "outputs": [
    {
     "name": "stdout",
     "output_type": "stream",
     "text": [
      "[9, 13, 11, 6, 10, 14, 5, 10, 9, 8, 12, 5, 12, 6, 6, 10, 7, 10, 8, 13, 13, 20, 5, 9, 10, 7, 10, 11, 10, 10, 12, 13, 14, 12, 14, 16, 7, 13, 8, 12, 17, 17, 13, 5, 16, 8, 18, 13, 13, 11, 11, 9, 5, 8, 9, 17, 8, 17, 16, 14, 16, 14, 13, 9, 5, 7, 12, 8, 14]\n"
     ]
    }
   ],
   "source": [
    "\n",
    "Reflection1=[]\n",
    "Brooding1=[]\n",
    "Depression1=[]\n",
    "Hobbies1=[]\n",
    "Food_Drink1=[]\n",
    "Social_Activity1=[]\n",
    "Sensory_Experiences1=[]\n",
    "b_column1=vast[\"stimulus\"]\n",
    "#this is for reflection, brooding and depression\n",
    "for y in range(1, len(b_column1),45):        \n",
    "        ref1=int(b_column1[y+6])+int(b_column1[y+10])+int(b_column1[y+11])+int(b_column1[y+19])+int(b_column1[y+20])\n",
    "        brood1 = int(b_column1[y+4])+int(b_column1[y+9])+int(b_column1[y+12])+int(b_column1[y+14])+int(b_column1[y+15])                \n",
    "        dep1 = int(b_column1[y])+int(b_column1[y+1])+int(b_column1[y+2])+int(b_column1[y+3])+int(b_column1[y+5])+int(b_column1[y+7])+int(b_column1[y+8])+int(b_column1[y+13])+int(b_column1[y+16])+int(b_column1[y+17])+int(b_column1[y+18])+int(b_column1[y+21])\n",
    "        Reflection1.append(ref1)\n",
    "        Brooding1.append(brood1)  \n",
    "        Depression1.append(dep1)\n",
    "print(Reflection1)\n",
    "dataframe1['Reflection1']=pd.Series(Reflection1)\n",
    "dataframe1['Brooding1']=pd.Series(Brooding1)\n",
    "dataframe1['Depression1']=pd.Series(Depression1)"
   ]
  },
  {
   "cell_type": "code",
   "execution_count": 4,
   "metadata": {},
   "outputs": [],
   "source": [
    "#this is for DARs\n",
    "for i in range(25, len(b_column1),45):    \n",
    "        hob1= int(b_column1[i])+int(b_column1[i+1])+int(b_column1[i+2])+int(b_column1[i+3])\n",
    "        Hobbies1.append(hob1)\n",
    "        food1= int(b_column1[i+5])+int(b_column1[i+6])+int(b_column1[i+7])+int(b_column1[i+8])\n",
    "        Food_Drink1.append(food1)\n",
    "        soc1= int(b_column1[i+10])+int(b_column1[i+11])+int(b_column1[i+12])+int(b_column1[i+13])\n",
    "        Social_Activity1.append(soc1)\n",
    "        sens1 = int(b_column1[i+15])+int(b_column1[i+16])+int(b_column1[i+17])+int(b_column1[i+18])+int(b_column1[i+19])\n",
    "        Sensory_Experiences1.append(sens1)\n",
    "dataframe1['Hobbies1']=pd.Series(Hobbies1)\n",
    "dataframe1['Food Drink1']=pd.Series(Food_Drink1)\n",
    "dataframe1['Social Activity1']=pd.Series(Social_Activity1)\n",
    "dataframe1['Sensory Experiences']=pd.Series(Sensory_Experiences1)\n",
    "\n"
   ]
  },
  {
   "cell_type": "code",
   "execution_count": 5,
   "metadata": {},
   "outputs": [],
   "source": [
    "dataframe1.to_csv(\"data_raw/cleaned_data_real.csv\")"
   ]
  },
  {
   "cell_type": "code",
   "execution_count": null,
   "metadata": {},
   "outputs": [],
   "source": [
    "#put the first set of values in the correct position, will have to move the column over to the correct column as well\n",
    "#for x in specific column, apply this value over the first \n",
    "finalone = pd.read_csv(\"/Users/michaelshi/Desktop/GitHub/qtm151spring2023/Assignment 4/data_raw/cleaned_data_real.csv\")\n",
    "dataframe2=pd.DataFrame(finalone)\n",
    "b_column1=dataframe2[\"stimulus\"]\n",
    "stri1=\"<h1>Rumination Response Scale</h1> <p>1/8</p><p>This scale will be 22 questions long </p> <p>Instructions: </p><p>People think and do many different things when they feel depressed. Please read each of the items </p><p>below and indicate whether you almost never, sometimes, often, or almost always think or do each one when you feel down, sad, or depressed.</p><p> Please indicate what you generally do, not what you think you should do.</p>\"\n",
    "df = [fast[\"stimulus\"]==stri]\n",
    "fast1=df.index\n",
    "fx= list(fast1)\n",
    "print(fx)\n",
    "for x in range(1,len(Hobbies1)):\n",
    "    \n"
   ]
  },
  {
   "cell_type": "markdown",
   "metadata": {},
   "source": []
  }
 ],
 "metadata": {
  "kernelspec": {
   "display_name": "Python 3",
   "language": "python",
   "name": "python3"
  },
  "language_info": {
   "codemirror_mode": {
    "name": "ipython",
    "version": 3
   },
   "file_extension": ".py",
   "mimetype": "text/x-python",
   "name": "python",
   "nbconvert_exporter": "python",
   "pygments_lexer": "ipython3",
   "version": "3.11.1 (v3.11.1:a7a450f84a, Dec  6 2022, 15:24:06) [Clang 13.0.0 (clang-1300.0.29.30)]"
  },
  "orig_nbformat": 4,
  "vscode": {
   "interpreter": {
    "hash": "aee8b7b246df8f9039afb4144a1f6fd8d2ca17a180786b69acc140d282b71a49"
   }
  }
 },
 "nbformat": 4,
 "nbformat_minor": 2
}
