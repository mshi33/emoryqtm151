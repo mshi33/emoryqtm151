{
 "cells": [
  {
   "cell_type": "code",
   "execution_count": 5,
   "metadata": {},
   "outputs": [],
   "source": [
    "import numpy as np\n",
    "import pandas as pd"
   ]
  },
  {
   "cell_type": "code",
   "execution_count": 6,
   "metadata": {},
   "outputs": [],
   "source": [
    "vast = pd.read_csv(\"Assignment 4/data_raw/cleaned_data.csv\")"
   ]
  },
  {
   "cell_type": "code",
   "execution_count": 7,
   "metadata": {},
   "outputs": [],
   "source": [
    "\n",
    "\n",
    "\n",
    "Reflection1=[]\n",
    "Brooding1=[]\n",
    "Depression1=[]\n",
    "Hobbies1=[]\n",
    "Food_Drink1=[]\n",
    "Social_Activity1=[]\n",
    "Sensory_Experiences1=[]\n",
    "b_column1=vast[\"stimulus\"]\n",
    "for y in range(1, len(b_column1),45):        \n",
    "        ref1=int(b_column1[y+6])+int(b_column1[y+10])+int(b_column1[y+11])+int(b_column1[y+19])+int(b_column1[y+20])\n",
    "        brood1 = int(b_column1[y+4])+int(b_column1[y+9])+int(b_column1[y+12])+int(b_column1[y+14])+int(b_column1[y+15])                \n",
    "        dep1 = int(b_column1[y])+int(b_column1[y+1])+int(b_column1[y+2])+int(b_column1[y+3])+int(b_column1[y+5])+int(b_column1[y+7])+int(b_column1[y+8])+int(b_column1[y+13])+int(b_column1[y+16])+int(b_column1[y+17])+int(b_column1[y+18])+int(b_column1[y+21])\n",
    "        Reflection1.append(ref1)\n",
    "        Brooding1.append(brood1)  \n",
    "        Depression1.append(dep1)\n"
   ]
  },
  {
   "cell_type": "code",
   "execution_count": 9,
   "metadata": {},
   "outputs": [
    {
     "name": "stdout",
     "output_type": "stream",
     "text": [
      "[20, 15, 20, 14, 19, 9, 9, 12, 16, 20, 15, 19, 20, 15, 20, 16, 11, 14, 20, 20, 19, 16, 20, 17, 10, 19, 12, 4, 0, 17, 20, 20, 20, 20, 11, 20, 18, 12, 20, 15, 20, 16, 11, 15, 20, 15, 17, 20, 14, 16, 20, 15, 20, 14, 19, 9, 9, 12, 16, 20, 15, 19, 20, 15, 20, 16, 11, 14, 20, 20, 19, 16, 20, 17, 10, 19, 12, 4, 0, 17, 20, 20, 20, 20, 11, 20, 18, 12, 20, 15, 20, 16, 11, 15, 20, 15, 17, 20, 14, 16]\n"
     ]
    }
   ],
   "source": [
    "for i in range(25, len(b_column1),45):    \n",
    "        hob1= int(b_column1[i])+int(b_column1[i+1])+int(b_column1[i+2])+int(b_column1[i+3])\n",
    "        Hobbies1.append(hob1)\n",
    "        food1= int(b_column1[i+5])+int(b_column1[i+6])+int(b_column1[i+7])+int(b_column1[i+8])\n",
    "        Food_Drink1.append(food1)\n",
    "        soc1= int(b_column1[i+10])+int(b_column1[i+11])+int(b_column1[i+12])+int(b_column1[i+13])\n",
    "        Social_Activity1.append(soc1)\n",
    "        sens1 = int(b_column1[i+15])+int(b_column1[i+16])+int(b_column1[i+17])+int(b_column1[i+18])+int(b_column1[i+19])\n",
    "        Sensory_Experiences1.append(sens1)\n",
    "print(Sensory_Experiences1)"
   ]
  }
 ],
 "metadata": {
  "kernelspec": {
   "display_name": "Python 3",
   "language": "python",
   "name": "python3"
  },
  "language_info": {
   "codemirror_mode": {
    "name": "ipython",
    "version": 3
   },
   "file_extension": ".py",
   "mimetype": "text/x-python",
   "name": "python",
   "nbconvert_exporter": "python",
   "pygments_lexer": "ipython3",
   "version": "3.11.1"
  },
  "orig_nbformat": 4,
  "vscode": {
   "interpreter": {
    "hash": "aee8b7b246df8f9039afb4144a1f6fd8d2ca17a180786b69acc140d282b71a49"
   }
  }
 },
 "nbformat": 4,
 "nbformat_minor": 2
}
